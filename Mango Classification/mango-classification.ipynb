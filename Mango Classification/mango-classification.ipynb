{
 "cells": [
  {
   "cell_type": "markdown",
   "id": "2a5c5899",
   "metadata": {
    "papermill": {
     "duration": 0.006332,
     "end_time": "2023-09-11T11:40:46.864516",
     "exception": false,
     "start_time": "2023-09-11T11:40:46.858184",
     "status": "completed"
    },
    "tags": []
   },
   "source": []
  },
  {
   "cell_type": "code",
   "execution_count": 1,
   "id": "fe860f77",
   "metadata": {
    "_cell_guid": "b1076dfc-b9ad-4769-8c92-a6c4dae69d19",
    "_uuid": "8f2839f25d086af736a60e9eeb907d3b93b6e0e5",
    "execution": {
     "iopub.execute_input": "2023-09-11T11:40:46.878472Z",
     "iopub.status.busy": "2023-09-11T11:40:46.876877Z",
     "iopub.status.idle": "2023-09-11T11:40:46.884459Z",
     "shell.execute_reply": "2023-09-11T11:40:46.882659Z"
    },
    "papermill": {
     "duration": 0.017489,
     "end_time": "2023-09-11T11:40:46.887409",
     "exception": false,
     "start_time": "2023-09-11T11:40:46.869920",
     "status": "completed"
    },
    "tags": []
   },
   "outputs": [],
   "source": [
    "# install dependencies\n"
   ]
  },
  {
   "cell_type": "code",
   "execution_count": 2,
   "id": "458d7d3c",
   "metadata": {
    "execution": {
     "iopub.execute_input": "2023-09-11T11:40:46.900832Z",
     "iopub.status.busy": "2023-09-11T11:40:46.900151Z",
     "iopub.status.idle": "2023-09-11T11:41:01.790891Z",
     "shell.execute_reply": "2023-09-11T11:41:01.788391Z"
    },
    "papermill": {
     "duration": 14.901507,
     "end_time": "2023-09-11T11:41:01.794281",
     "exception": false,
     "start_time": "2023-09-11T11:40:46.892774",
     "status": "completed"
    },
    "tags": []
   },
   "outputs": [],
   "source": [
    "# load dependencies\n",
    "import numpy as np\n",
    "import pandas as pd\n",
    "import matplotlib.pyplot as plt\n",
    "import seaborn as sns\n",
    "import os\n",
    "\n",
    "import tensorflow as tf\n",
    "from tensorflow.keras.preprocessing.image import ImageDataGenerator\n",
    "from tensorflow.keras.models import Sequential\n",
    "from tensorflow.keras.layers import Conv2D, MaxPooling2D, Flatten, Dense, Dropout\n",
    "from tensorflow.keras.optimizers import Adam\n",
    "from tensorflow.keras.callbacks import ModelCheckpoint\n",
    "from sklearn.model_selection import train_test_split\n",
    "\n"
   ]
  },
  {
   "cell_type": "code",
   "execution_count": 3,
   "id": "b6580a45",
   "metadata": {
    "execution": {
     "iopub.execute_input": "2023-09-11T11:41:01.807956Z",
     "iopub.status.busy": "2023-09-11T11:41:01.806936Z",
     "iopub.status.idle": "2023-09-11T11:41:02.055664Z",
     "shell.execute_reply": "2023-09-11T11:41:02.053749Z"
    },
    "papermill": {
     "duration": 0.259224,
     "end_time": "2023-09-11T11:41:02.058970",
     "exception": false,
     "start_time": "2023-09-11T11:41:01.799746",
     "status": "completed"
    },
    "tags": []
   },
   "outputs": [],
   "source": [
    "# load and create labeled data\n",
    "data_dir = '/kaggle/input/mangofruitdds/MangoFruitDDS/SenMangoFruitDDS_original'\n",
    "batch_size = 32\n",
    "epochs = 20\n",
    "input_shape = (224, 224, 3)\n",
    "image_paths = []\n",
    "labels = []\n",
    "\n",
    "for category in os.listdir(data_dir):\n",
    "    category_dir = os.path.join(data_dir, category)\n",
    "    if os.path.isdir(category_dir):\n",
    "        for image_filename in os.listdir(category_dir):\n",
    "            if image_filename.endswith('.jpg'):\n",
    "                image_path = os.path.join(category_dir, image_filename)\n",
    "                image_paths.append(image_path)\n",
    "                labels.append(category)\n"
   ]
  },
  {
   "cell_type": "code",
   "execution_count": 4,
   "id": "3d922be7",
   "metadata": {
    "execution": {
     "iopub.execute_input": "2023-09-11T11:41:02.072907Z",
     "iopub.status.busy": "2023-09-11T11:41:02.072380Z",
     "iopub.status.idle": "2023-09-11T11:41:02.084945Z",
     "shell.execute_reply": "2023-09-11T11:41:02.082705Z"
    },
    "papermill": {
     "duration": 0.023266,
     "end_time": "2023-09-11T11:41:02.088180",
     "exception": false,
     "start_time": "2023-09-11T11:41:02.064914",
     "status": "completed"
    },
    "tags": []
   },
   "outputs": [],
   "source": [
    "# split dataset\n",
    "train_image_paths, test_image_paths, train_labels, test_labels = train_test_split(\n",
    "    image_paths, labels, test_size=0.2, random_state=42)"
   ]
  },
  {
   "cell_type": "code",
   "execution_count": 5,
   "id": "be6760ee",
   "metadata": {
    "execution": {
     "iopub.execute_input": "2023-09-11T11:41:02.101017Z",
     "iopub.status.busy": "2023-09-11T11:41:02.100529Z",
     "iopub.status.idle": "2023-09-11T11:41:02.142070Z",
     "shell.execute_reply": "2023-09-11T11:41:02.139098Z"
    },
    "papermill": {
     "duration": 0.050803,
     "end_time": "2023-09-11T11:41:02.144616",
     "exception": false,
     "start_time": "2023-09-11T11:41:02.093813",
     "status": "completed"
    },
    "tags": []
   },
   "outputs": [
    {
     "name": "stdout",
     "output_type": "stream",
     "text": [
      "Found 689 validated image filenames belonging to 5 classes.\n"
     ]
    }
   ],
   "source": [
    "# create data generator for training\n",
    "train_datagen = ImageDataGenerator(\n",
    "    rescale=1.0 / 255,\n",
    "    rotation_range=30,\n",
    "    width_shift_range=0.2,\n",
    "    height_shift_range=0.2,\n",
    "    shear_range=0.2,\n",
    "    zoom_range=0.2,\n",
    "    horizontal_flip=True,\n",
    "    fill_mode='nearest'\n",
    ")\n",
    "\n",
    "train_generator = train_datagen.flow_from_dataframe(\n",
    "    pd.DataFrame({'image_path': train_image_paths, 'label': train_labels}),\n",
    "    x_col='image_path',\n",
    "    y_col='label',\n",
    "    target_size=input_shape[:2],\n",
    "    batch_size=batch_size,\n",
    "    class_mode='categorical'\n",
    ")"
   ]
  },
  {
   "cell_type": "code",
   "execution_count": 6,
   "id": "6c0a66cd",
   "metadata": {
    "execution": {
     "iopub.execute_input": "2023-09-11T11:41:02.157735Z",
     "iopub.status.busy": "2023-09-11T11:41:02.157248Z",
     "iopub.status.idle": "2023-09-11T11:41:02.552469Z",
     "shell.execute_reply": "2023-09-11T11:41:02.550491Z"
    },
    "papermill": {
     "duration": 0.405469,
     "end_time": "2023-09-11T11:41:02.555756",
     "exception": false,
     "start_time": "2023-09-11T11:41:02.150287",
     "status": "completed"
    },
    "tags": []
   },
   "outputs": [],
   "source": [
    "# build model\n",
    "model = Sequential()\n",
    "\n",
    "model.add(Conv2D(32, (3, 3), activation='relu', input_shape=input_shape))\n",
    "model.add(MaxPooling2D(pool_size=(2, 2)))\n",
    "\n",
    "model.add(Conv2D(64, (3, 3), activation='relu'))\n",
    "model.add(MaxPooling2D(pool_size=(2, 2)))\n",
    "\n",
    "model.add(Conv2D(128, (3, 3), activation='relu'))\n",
    "model.add(MaxPooling2D(pool_size=(2, 2)))\n",
    "\n",
    "model.add(Flatten())\n",
    "model.add(Dense(256, activation='relu'))\n",
    "model.add(Dropout(0.5))\n",
    "model.add(Dense(5, activation='softmax'))  # 5 classes (4 diseases + 1 healthy)\n"
   ]
  },
  {
   "cell_type": "code",
   "execution_count": 7,
   "id": "d00f68dd",
   "metadata": {
    "execution": {
     "iopub.execute_input": "2023-09-11T11:41:02.570473Z",
     "iopub.status.busy": "2023-09-11T11:41:02.569006Z",
     "iopub.status.idle": "2023-09-11T11:41:02.595611Z",
     "shell.execute_reply": "2023-09-11T11:41:02.593728Z"
    },
    "papermill": {
     "duration": 0.037928,
     "end_time": "2023-09-11T11:41:02.599343",
     "exception": false,
     "start_time": "2023-09-11T11:41:02.561415",
     "status": "completed"
    },
    "tags": []
   },
   "outputs": [],
   "source": [
    "# compile \n",
    "model.compile(loss='categorical_crossentropy',\n",
    "              optimizer=Adam(lr=0.0001),\n",
    "              metrics=['accuracy'])"
   ]
  },
  {
   "cell_type": "code",
   "execution_count": 8,
   "id": "3d5c05c9",
   "metadata": {
    "execution": {
     "iopub.execute_input": "2023-09-11T11:41:02.612707Z",
     "iopub.status.busy": "2023-09-11T11:41:02.612232Z",
     "iopub.status.idle": "2023-09-11T11:41:02.619127Z",
     "shell.execute_reply": "2023-09-11T11:41:02.617888Z"
    },
    "papermill": {
     "duration": 0.016312,
     "end_time": "2023-09-11T11:41:02.621201",
     "exception": false,
     "start_time": "2023-09-11T11:41:02.604889",
     "status": "completed"
    },
    "tags": []
   },
   "outputs": [],
   "source": [
    "# check point\n",
    "checkpoint = ModelCheckpoint('mango_fruit_disease_model.h5',\n",
    "                             monitor='val_loss',\n",
    "                             save_best_only=True,\n",
    "                             verbose=1)"
   ]
  },
  {
   "cell_type": "code",
   "execution_count": 9,
   "id": "96e7d966",
   "metadata": {
    "execution": {
     "iopub.execute_input": "2023-09-11T11:41:02.633106Z",
     "iopub.status.busy": "2023-09-11T11:41:02.632674Z",
     "iopub.status.idle": "2023-09-11T11:53:57.187598Z",
     "shell.execute_reply": "2023-09-11T11:53:57.186267Z"
    },
    "papermill": {
     "duration": 774.564002,
     "end_time": "2023-09-11T11:53:57.190567",
     "exception": false,
     "start_time": "2023-09-11T11:41:02.626565",
     "status": "completed"
    },
    "tags": []
   },
   "outputs": [
    {
     "name": "stdout",
     "output_type": "stream",
     "text": [
      "Epoch 1/20\n",
      "21/21 [==============================] - 35s 2s/step - loss: 2.2491 - accuracy: 0.2557\n",
      "Epoch 2/20\n",
      "21/21 [==============================] - 33s 2s/step - loss: 1.3306 - accuracy: 0.3881\n",
      "Epoch 3/20\n",
      "21/21 [==============================] - 33s 2s/step - loss: 1.1787 - accuracy: 0.4810\n",
      "Epoch 4/20\n",
      "21/21 [==============================] - 33s 2s/step - loss: 1.1290 - accuracy: 0.5053\n",
      "Epoch 5/20\n",
      "21/21 [==============================] - 34s 2s/step - loss: 0.9627 - accuracy: 0.6134\n",
      "Epoch 6/20\n",
      "21/21 [==============================] - 33s 2s/step - loss: 0.9451 - accuracy: 0.5906\n",
      "Epoch 7/20\n",
      "21/21 [==============================] - 34s 2s/step - loss: 0.8948 - accuracy: 0.6027\n",
      "Epoch 8/20\n",
      "21/21 [==============================] - 33s 2s/step - loss: 0.8377 - accuracy: 0.6438\n",
      "Epoch 9/20\n",
      "21/21 [==============================] - 33s 2s/step - loss: 0.8010 - accuracy: 0.6560\n",
      "Epoch 10/20\n",
      "21/21 [==============================] - 34s 2s/step - loss: 0.7925 - accuracy: 0.6591\n",
      "Epoch 11/20\n",
      "21/21 [==============================] - 33s 2s/step - loss: 0.7201 - accuracy: 0.6804\n",
      "Epoch 12/20\n",
      "21/21 [==============================] - 33s 2s/step - loss: 0.7750 - accuracy: 0.6728\n",
      "Epoch 13/20\n",
      "21/21 [==============================] - 33s 2s/step - loss: 0.7559 - accuracy: 0.6834\n",
      "Epoch 14/20\n",
      "21/21 [==============================] - 33s 2s/step - loss: 0.7607 - accuracy: 0.6834\n",
      "Epoch 15/20\n",
      "21/21 [==============================] - 33s 2s/step - loss: 0.7397 - accuracy: 0.6880\n",
      "Epoch 16/20\n",
      "21/21 [==============================] - 33s 2s/step - loss: 0.7351 - accuracy: 0.6941\n",
      "Epoch 17/20\n",
      "21/21 [==============================] - 33s 2s/step - loss: 0.7092 - accuracy: 0.6986\n",
      "Epoch 18/20\n",
      "21/21 [==============================] - 33s 2s/step - loss: 0.7808 - accuracy: 0.6773\n",
      "Epoch 19/20\n",
      "21/21 [==============================] - 33s 2s/step - loss: 0.7353 - accuracy: 0.6865\n",
      "Epoch 20/20\n",
      "21/21 [==============================] - 33s 2s/step - loss: 0.6884 - accuracy: 0.6667\n"
     ]
    }
   ],
   "source": [
    "# train model\n",
    "history = model.fit(\n",
    "    train_generator,\n",
    "    steps_per_epoch=train_generator.samples // batch_size,\n",
    "    epochs=epochs,\n",
    "    callbacks=[checkpoint]\n",
    ")"
   ]
  },
  {
   "cell_type": "code",
   "execution_count": 10,
   "id": "82dca730",
   "metadata": {
    "execution": {
     "iopub.execute_input": "2023-09-11T11:53:57.259631Z",
     "iopub.status.busy": "2023-09-11T11:53:57.259179Z",
     "iopub.status.idle": "2023-09-11T11:53:57.659644Z",
     "shell.execute_reply": "2023-09-11T11:53:57.658103Z"
    },
    "papermill": {
     "duration": 0.439555,
     "end_time": "2023-09-11T11:53:57.662629",
     "exception": false,
     "start_time": "2023-09-11T11:53:57.223074",
     "status": "completed"
    },
    "tags": []
   },
   "outputs": [],
   "source": [
    "# save model\n",
    "model.save('mango_fruit_disease_model.h5')"
   ]
  },
  {
   "cell_type": "code",
   "execution_count": 11,
   "id": "c43c87a3",
   "metadata": {
    "execution": {
     "iopub.execute_input": "2023-09-11T11:53:57.727864Z",
     "iopub.status.busy": "2023-09-11T11:53:57.727313Z",
     "iopub.status.idle": "2023-09-11T11:54:00.851827Z",
     "shell.execute_reply": "2023-09-11T11:54:00.850796Z"
    },
    "papermill": {
     "duration": 3.160033,
     "end_time": "2023-09-11T11:54:00.854634",
     "exception": false,
     "start_time": "2023-09-11T11:53:57.694601",
     "status": "completed"
    },
    "tags": []
   },
   "outputs": [
    {
     "name": "stdout",
     "output_type": "stream",
     "text": [
      "Found 173 validated image filenames belonging to 5 classes.\n",
      "6/6 [==============================] - 2s 324ms/step - loss: 0.7952 - accuracy: 0.6879\n",
      "Test loss: 0.7952\n",
      "Test accuracy: 68.79%\n"
     ]
    }
   ],
   "source": [
    "# evaluate on test data\n",
    "test_datagen = ImageDataGenerator(rescale=1.0 / 255)\n",
    "test_generator = test_datagen.flow_from_dataframe(\n",
    "    pd.DataFrame({'image_path': test_image_paths, 'label': test_labels}),\n",
    "    x_col='image_path',\n",
    "    y_col='label',\n",
    "    target_size=input_shape[:2],\n",
    "    batch_size=batch_size,\n",
    "    class_mode='categorical'\n",
    ")\n",
    "\n",
    "loss, accuracy = model.evaluate(test_generator)\n",
    "print(f'Test loss: {loss:.4f}')\n",
    "print(f'Test accuracy: {accuracy * 100:.2f}%')"
   ]
  },
  {
   "cell_type": "code",
   "execution_count": 12,
   "id": "d2615ef1",
   "metadata": {
    "execution": {
     "iopub.execute_input": "2023-09-11T11:54:00.924550Z",
     "iopub.status.busy": "2023-09-11T11:54:00.923816Z",
     "iopub.status.idle": "2023-09-11T11:54:00.929275Z",
     "shell.execute_reply": "2023-09-11T11:54:00.927607Z"
    },
    "papermill": {
     "duration": 0.043772,
     "end_time": "2023-09-11T11:54:00.932276",
     "exception": false,
     "start_time": "2023-09-11T11:54:00.888504",
     "status": "completed"
    },
    "tags": []
   },
   "outputs": [],
   "source": [
    "# End"
   ]
  },
  {
   "cell_type": "code",
   "execution_count": null,
   "id": "ca2d8999",
   "metadata": {
    "papermill": {
     "duration": 0.032423,
     "end_time": "2023-09-11T11:54:00.999183",
     "exception": false,
     "start_time": "2023-09-11T11:54:00.966760",
     "status": "completed"
    },
    "tags": []
   },
   "outputs": [],
   "source": []
  }
 ],
 "kernelspec": {
  "display_name": "Python 3",
  "language": "python",
  "name": "python3"
 },
 "language_info": {
  "codemirror_mode": {
   "name": "ipython",
   "version": 3
  },
  "file_extension": ".py",
  "mimetype": "text/x-python",
  "name": "python",
  "nbconvert_exporter": "python",
  "pygments_lexer": "ipython3",
  "version": "3.6.4"
 },
 "metadata": {
  "kernelspec": {
   "display_name": "Python 3",
   "language": "python",
   "name": "python3"
  },
  "language_info": {
   "codemirror_mode": {
    "name": "ipython",
    "version": 3
   },
   "file_extension": ".py",
   "mimetype": "text/x-python",
   "name": "python",
   "nbconvert_exporter": "python",
   "pygments_lexer": "ipython3",
   "version": "3.10.12"
  },
  "papermill": {
   "default_parameters": {},
   "duration": 802.384127,
   "end_time": "2023-09-11T11:54:04.280786",
   "environment_variables": {},
   "exception": null,
   "input_path": "__notebook__.ipynb",
   "output_path": "__notebook__.ipynb",
   "parameters": {},
   "start_time": "2023-09-11T11:40:41.896659",
   "version": "2.4.0"
  }
 },
 "nbformat": 4,
 "nbformat_minor": 5
}
